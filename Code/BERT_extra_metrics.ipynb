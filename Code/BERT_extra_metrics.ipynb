{
  "nbformat": 4,
  "nbformat_minor": 0,
  "metadata": {
    "colab": {
      "name": "BERT_extra_metrics.ipynb",
      "provenance": [],
      "collapsed_sections": []
    },
    "kernelspec": {
      "name": "python3",
      "display_name": "Python 3"
    },
    "language_info": {
      "name": "python"
    }
  },
  "cells": [
    {
      "cell_type": "code",
      "execution_count": null,
      "metadata": {
        "id": "0jdehYGAmy7J"
      },
      "outputs": [],
      "source": [
        "# this function was used to combine results from multiple csv files (to speed up computation)\n",
        "def combine_csv(): \n",
        "  mine = pd.read_csv('gdrive/MyDrive/SNLP_Coursework/WikiHow_sample_leq512_results_BERT.csv') \n",
        "  anjali = pd.read_csv('gdrive/MyDrive/SNLP_Coursework/Anjali_BERT_Results.csv')\n",
        "\n",
        "\n",
        "  anjTrainLength = anjali['train_length'][:]\n",
        "  anjSumms = anjali['summary'][:]\n",
        "  anjSummLength = anjali['summary_length'][:]\n",
        "\n",
        "  for i, train_length in enumerate(anjTrainLength):\n",
        "    if i > 9999 and i < 20000:\n",
        "      mine['train_length'][i] = train_length\n",
        "\n",
        "  for i, summary in enumerate(anjSumms):\n",
        "    if i > 9999 and i < 20000:\n",
        "      mine['summary'][i] = summary\n",
        "\n",
        "  for i, summary_length in enumerate(anjSummLength):\n",
        "    if i > 9999 and i < 20000:\n",
        "      mine['summary_length'][i] = summary_length\n",
        "\n",
        "  df_results.to_csv('gdrive/MyDrive/SNLP_Coursework/FINAL_WikiHow_sample_leq512_results_BERT.csv')\n",
        "\n",
        "\n",
        "\n",
        "\n",
        "\n"
      ]
    }
  ]
}