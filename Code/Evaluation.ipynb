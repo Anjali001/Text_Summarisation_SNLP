{
 "cells": [
  {
   "cell_type": "code",
   "execution_count": 1,
   "id": "89c12812",
   "metadata": {},
   "outputs": [
    {
     "name": "stdout",
     "output_type": "stream",
     "text": [
      "Requirement already satisfied: rouge in /opt/anaconda3/lib/python3.8/site-packages (1.0.1)\r\n",
      "Requirement already satisfied: six in /opt/anaconda3/lib/python3.8/site-packages (from rouge) (1.16.0)\r\n"
     ]
    }
   ],
   "source": [
    "!pip install rouge"
   ]
  },
  {
   "cell_type": "code",
   "execution_count": 2,
   "id": "939c4046",
   "metadata": {},
   "outputs": [],
   "source": [
    "import pandas as pd\n",
    "import numpy as np\n",
    "from rouge import Rouge"
   ]
  },
  {
   "cell_type": "code",
   "execution_count": 3,
   "id": "32b6adf5",
   "metadata": {},
   "outputs": [],
   "source": [
    "WikiHow_sample_leq512 = pd.read_csv('WikiHow_sample_leq512_withsummary.csv' )"
   ]
  },
  {
   "cell_type": "code",
   "execution_count": 42,
   "id": "ba270624",
   "metadata": {},
   "outputs": [
    {
     "data": {
      "text/html": [
       "<div>\n",
       "<style scoped>\n",
       "    .dataframe tbody tr th:only-of-type {\n",
       "        vertical-align: middle;\n",
       "    }\n",
       "\n",
       "    .dataframe tbody tr th {\n",
       "        vertical-align: top;\n",
       "    }\n",
       "\n",
       "    .dataframe thead th {\n",
       "        text-align: right;\n",
       "    }\n",
       "</style>\n",
       "<table border=\"1\" class=\"dataframe\">\n",
       "  <thead>\n",
       "    <tr style=\"text-align: right;\">\n",
       "      <th></th>\n",
       "      <th>headline</th>\n",
       "      <th>title</th>\n",
       "      <th>text</th>\n",
       "      <th>text_length</th>\n",
       "      <th>summary</th>\n",
       "      <th>train_length</th>\n",
       "      <th>ROUGE_T5</th>\n",
       "    </tr>\n",
       "  </thead>\n",
       "  <tbody>\n",
       "    <tr>\n",
       "      <th>0</th>\n",
       "      <td>\\nAvoid abrasive clothing-on-skin contact.,\\nR...</td>\n",
       "      <td>How to Care for Skin During Winter3</td>\n",
       "      <td>While it's always a good idea to cover up whe...</td>\n",
       "      <td>397</td>\n",
       "      <td>itching is a great way to cause infections by ...</td>\n",
       "      <td>392</td>\n",
       "      <td>empty</td>\n",
       "    </tr>\n",
       "    <tr>\n",
       "      <th>1</th>\n",
       "      <td>\\nGo to Data tab and select From Other Sources...</td>\n",
       "      <td>How to Embed a SQL Query in Microsoft Excel</td>\n",
       "      <td>;\\n,, Select “ODBC DSN” from the available opt...</td>\n",
       "      <td>70</td>\n",
       "      <td>select the database and table as appropriate i...</td>\n",
       "      <td>64</td>\n",
       "      <td>empty</td>\n",
       "    </tr>\n",
       "    <tr>\n",
       "      <th>2</th>\n",
       "      <td>\\nTease her.,\\nMake up ridiculous stories.,\\nE...</td>\n",
       "      <td>How to Reply to One Word Texts from Girls2</td>\n",
       "      <td>Since she is only sending you one word text m...</td>\n",
       "      <td>469</td>\n",
       "      <td>make sure you are appropriate with your teasin...</td>\n",
       "      <td>464</td>\n",
       "      <td>empty</td>\n",
       "    </tr>\n",
       "    <tr>\n",
       "      <th>3</th>\n",
       "      <td>\\nLaunch the Microsoft Word mobile app.,\\nOpen...</td>\n",
       "      <td>How to Check a Word Count in Microsoft Word3</td>\n",
       "      <td>On your smartphone or tablet, tap on the Word...</td>\n",
       "      <td>218</td>\n",
       "      <td>the app will usually open the last document yo...</td>\n",
       "      <td>210</td>\n",
       "      <td>empty</td>\n",
       "    </tr>\n",
       "    <tr>\n",
       "      <th>4</th>\n",
       "      <td>\\nWhen thinking of confronting someone(if you ...</td>\n",
       "      <td>How to Verbally Express Yourself Without Fear</td>\n",
       "      <td>know what you wish to achieve with this verba...</td>\n",
       "      <td>143</td>\n",
       "      <td>donna brazile: your intentions must be absolut...</td>\n",
       "      <td>141</td>\n",
       "      <td>empty</td>\n",
       "    </tr>\n",
       "  </tbody>\n",
       "</table>\n",
       "</div>"
      ],
      "text/plain": [
       "                                            headline  \\\n",
       "0  \\nAvoid abrasive clothing-on-skin contact.,\\nR...   \n",
       "1  \\nGo to Data tab and select From Other Sources...   \n",
       "2  \\nTease her.,\\nMake up ridiculous stories.,\\nE...   \n",
       "3  \\nLaunch the Microsoft Word mobile app.,\\nOpen...   \n",
       "4  \\nWhen thinking of confronting someone(if you ...   \n",
       "\n",
       "                                           title  \\\n",
       "0            How to Care for Skin During Winter3   \n",
       "1    How to Embed a SQL Query in Microsoft Excel   \n",
       "2     How to Reply to One Word Texts from Girls2   \n",
       "3   How to Check a Word Count in Microsoft Word3   \n",
       "4  How to Verbally Express Yourself Without Fear   \n",
       "\n",
       "                                                text  text_length  \\\n",
       "0   While it's always a good idea to cover up whe...          397   \n",
       "1  ;\\n,, Select “ODBC DSN” from the available opt...           70   \n",
       "2   Since she is only sending you one word text m...          469   \n",
       "3   On your smartphone or tablet, tap on the Word...          218   \n",
       "4   know what you wish to achieve with this verba...          143   \n",
       "\n",
       "                                             summary  train_length ROUGE_T5  \n",
       "0  itching is a great way to cause infections by ...           392    empty  \n",
       "1  select the database and table as appropriate i...            64    empty  \n",
       "2  make sure you are appropriate with your teasin...           464    empty  \n",
       "3  the app will usually open the last document yo...           210    empty  \n",
       "4  donna brazile: your intentions must be absolut...           141    empty  "
      ]
     },
     "execution_count": 42,
     "metadata": {},
     "output_type": "execute_result"
    }
   ],
   "source": [
    "WikiHow_sample_leq512.head()"
   ]
  },
  {
   "cell_type": "code",
   "execution_count": 33,
   "id": "866f39d7",
   "metadata": {},
   "outputs": [
    {
     "data": {
      "text/plain": [
       "14850"
      ]
     },
     "execution_count": 33,
     "metadata": {},
     "output_type": "execute_result"
    }
   ],
   "source": [
    "len(WikiHow_sample_leq512[WikiHow_sample_leq512['summary'] != 'empty'])"
   ]
  },
  {
   "cell_type": "code",
   "execution_count": 19,
   "id": "222259c3",
   "metadata": {},
   "outputs": [],
   "source": [
    "rouge = Rouge()\n",
    "def rouge_get_scores(hyp, ref, n):\n",
    "    try:\n",
    "        return float(rouge.get_scores(hyp, ref)[0]['rouge-{}'.format(n)]['f'])\n",
    "    except:\n",
    "        return \"drop\""
   ]
  },
  {
   "cell_type": "code",
   "execution_count": 40,
   "id": "800fb7cc",
   "metadata": {},
   "outputs": [],
   "source": [
    "del WikiHow_sample_leq512['ROUGE'] "
   ]
  },
  {
   "cell_type": "code",
   "execution_count": 41,
   "id": "039a5758",
   "metadata": {},
   "outputs": [],
   "source": [
    "WikiHow_sample_leq512['ROUGE_T5'] = 'empty'"
   ]
  },
  {
   "cell_type": "code",
   "execution_count": 38,
   "id": "afe11871",
   "metadata": {},
   "outputs": [],
   "source": [
    "for i,hyp in enumerate(WikiHow_sample_leq512['summary'][0:14850]):\n",
    "    ref = WikiHow_sample_leq512.loc[i,'headline']\n",
    "    WikiHow_sample_leq512.loc[i,'ROUGE_T5'] = rouge_get_scores(hyp,ref,'1')"
   ]
  },
  {
   "cell_type": "code",
   "execution_count": 31,
   "id": "022bceb2",
   "metadata": {},
   "outputs": [],
   "source": [
    "WikiHow_sample_leq512.loc[0,'ROUGE_T5'] = rouge_get_scores(WikiHow_sample_leq512.loc[0,'summary'],WikiHow_sample_leq512.loc[0,'headline'],'1')"
   ]
  },
  {
   "cell_type": "code",
   "execution_count": null,
   "id": "afff64f8",
   "metadata": {},
   "outputs": [],
   "source": []
  },
  {
   "cell_type": "code",
   "execution_count": 17,
   "id": "d2f307d2",
   "metadata": {},
   "outputs": [],
   "source": []
  },
  {
   "cell_type": "code",
   "execution_count": null,
   "id": "06096345",
   "metadata": {},
   "outputs": [],
   "source": []
  },
  {
   "cell_type": "code",
   "execution_count": 8,
   "id": "9036887e",
   "metadata": {},
   "outputs": [
    {
     "name": "stdout",
     "output_type": "stream",
     "text": [
      "ssh: connect to host blaze.cs.ucl.ac.uk port 22: Connection refused\r",
      "\r\n"
     ]
    }
   ],
   "source": [
    "ssh langlfan@.cs.ucl.ac.uk\n",
    "!ssh ucablf0@blaze.cs.ucl.ac.uk"
   ]
  },
  {
   "cell_type": "code",
   "execution_count": 5,
   "id": "e486a9da",
   "metadata": {},
   "outputs": [
    {
     "ename": "NameError",
     "evalue": "name 'nvidia' is not defined",
     "output_type": "error",
     "traceback": [
      "\u001b[0;31m---------------------------------------------------------------------------\u001b[0m",
      "\u001b[0;31mNameError\u001b[0m                                 Traceback (most recent call last)",
      "\u001b[0;32m/var/folders/yf/zj5bn4xd37q4x_zscg34zr800000gn/T/ipykernel_21448/1965261682.py\u001b[0m in \u001b[0;36m<module>\u001b[0;34m\u001b[0m\n\u001b[0;32m----> 1\u001b[0;31m \u001b[0mnvidia\u001b[0m\u001b[0;34m-\u001b[0m\u001b[0msmi\u001b[0m\u001b[0;34m\u001b[0m\u001b[0;34m\u001b[0m\u001b[0m\n\u001b[0m",
      "\u001b[0;31mNameError\u001b[0m: name 'nvidia' is not defined"
     ]
    }
   ],
   "source": [
    "nvidia-smi"
   ]
  },
  {
   "cell_type": "code",
   "execution_count": 6,
   "id": "854571c3",
   "metadata": {},
   "outputs": [
    {
     "ename": "SyntaxError",
     "evalue": "invalid syntax (762641243.py, line 1)",
     "output_type": "error",
     "traceback": [
      "\u001b[0;36m  File \u001b[0;32m\"/var/folders/yf/zj5bn4xd37q4x_zscg34zr800000gn/T/ipykernel_21448/762641243.py\"\u001b[0;36m, line \u001b[0;32m1\u001b[0m\n\u001b[0;31m    import static com.fizzed.blaze.SecureShells.sshConnect\u001b[0m\n\u001b[0m                  ^\u001b[0m\n\u001b[0;31mSyntaxError\u001b[0m\u001b[0;31m:\u001b[0m invalid syntax\n"
     ]
    }
   ],
   "source": []
  },
  {
   "cell_type": "code",
   "execution_count": null,
   "id": "adf9a626",
   "metadata": {},
   "outputs": [],
   "source": []
  }
 ],
 "metadata": {
  "kernelspec": {
   "display_name": "Python 3 (ipykernel)",
   "language": "python",
   "name": "python3"
  },
  "language_info": {
   "codemirror_mode": {
    "name": "ipython",
    "version": 3
   },
   "file_extension": ".py",
   "mimetype": "text/x-python",
   "name": "python",
   "nbconvert_exporter": "python",
   "pygments_lexer": "ipython3",
   "version": "3.8.12"
  }
 },
 "nbformat": 4,
 "nbformat_minor": 5
}
