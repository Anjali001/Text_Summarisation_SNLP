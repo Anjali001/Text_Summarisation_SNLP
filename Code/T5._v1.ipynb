{
  "cells": [
    {
      "cell_type": "code",
      "execution_count": 88,
      "metadata": {
        "colab": {
          "base_uri": "https://localhost:8080/"
        },
        "id": "TtURbdU5nIuc",
        "outputId": "002d26d0-0618-4a0a-f48f-cf14d2128d16"
      },
      "outputs": [
        {
          "output_type": "stream",
          "name": "stdout",
          "text": [
            "Requirement already satisfied: torch==1.7.1 in /usr/local/lib/python3.7/dist-packages (1.7.1)\n",
            "Requirement already satisfied: numpy in /usr/local/lib/python3.7/dist-packages (from torch==1.7.1) (1.21.5)\n",
            "Requirement already satisfied: typing-extensions in /usr/local/lib/python3.7/dist-packages (from torch==1.7.1) (3.10.0.2)\n",
            "Requirement already satisfied: transformers in /usr/local/lib/python3.7/dist-packages (4.17.0)\n",
            "Requirement already satisfied: tokenizers!=0.11.3,>=0.11.1 in /usr/local/lib/python3.7/dist-packages (from transformers) (0.11.6)\n",
            "Requirement already satisfied: numpy>=1.17 in /usr/local/lib/python3.7/dist-packages (from transformers) (1.21.5)\n",
            "Requirement already satisfied: tqdm>=4.27 in /usr/local/lib/python3.7/dist-packages (from transformers) (4.63.0)\n",
            "Requirement already satisfied: packaging>=20.0 in /usr/local/lib/python3.7/dist-packages (from transformers) (21.3)\n",
            "Requirement already satisfied: requests in /usr/local/lib/python3.7/dist-packages (from transformers) (2.23.0)\n",
            "Requirement already satisfied: sacremoses in /usr/local/lib/python3.7/dist-packages (from transformers) (0.0.49)\n",
            "Requirement already satisfied: importlib-metadata in /usr/local/lib/python3.7/dist-packages (from transformers) (4.11.3)\n",
            "Requirement already satisfied: regex!=2019.12.17 in /usr/local/lib/python3.7/dist-packages (from transformers) (2019.12.20)\n",
            "Requirement already satisfied: pyyaml>=5.1 in /usr/local/lib/python3.7/dist-packages (from transformers) (6.0)\n",
            "Requirement already satisfied: filelock in /usr/local/lib/python3.7/dist-packages (from transformers) (3.6.0)\n",
            "Requirement already satisfied: huggingface-hub<1.0,>=0.1.0 in /usr/local/lib/python3.7/dist-packages (from transformers) (0.4.0)\n",
            "Requirement already satisfied: typing-extensions>=3.7.4.3 in /usr/local/lib/python3.7/dist-packages (from huggingface-hub<1.0,>=0.1.0->transformers) (3.10.0.2)\n",
            "Requirement already satisfied: pyparsing!=3.0.5,>=2.0.2 in /usr/local/lib/python3.7/dist-packages (from packaging>=20.0->transformers) (3.0.7)\n",
            "Requirement already satisfied: zipp>=0.5 in /usr/local/lib/python3.7/dist-packages (from importlib-metadata->transformers) (3.7.0)\n",
            "Requirement already satisfied: chardet<4,>=3.0.2 in /usr/local/lib/python3.7/dist-packages (from requests->transformers) (3.0.4)\n",
            "Requirement already satisfied: urllib3!=1.25.0,!=1.25.1,<1.26,>=1.21.1 in /usr/local/lib/python3.7/dist-packages (from requests->transformers) (1.24.3)\n",
            "Requirement already satisfied: certifi>=2017.4.17 in /usr/local/lib/python3.7/dist-packages (from requests->transformers) (2021.10.8)\n",
            "Requirement already satisfied: idna<3,>=2.5 in /usr/local/lib/python3.7/dist-packages (from requests->transformers) (2.10)\n",
            "Requirement already satisfied: six in /usr/local/lib/python3.7/dist-packages (from sacremoses->transformers) (1.15.0)\n",
            "Requirement already satisfied: joblib in /usr/local/lib/python3.7/dist-packages (from sacremoses->transformers) (1.1.0)\n",
            "Requirement already satisfied: click in /usr/local/lib/python3.7/dist-packages (from sacremoses->transformers) (7.1.2)\n",
            "Requirement already satisfied: sentencepiece==0.1.94 in /usr/local/lib/python3.7/dist-packages (0.1.94)\n",
            "Requirement already satisfied: ipywidgets in /usr/local/lib/python3.7/dist-packages (7.7.0)\n",
            "Requirement already satisfied: jupyterlab-widgets>=1.0.0 in /usr/local/lib/python3.7/dist-packages (from ipywidgets) (1.1.0)\n",
            "Requirement already satisfied: ipython>=4.0.0 in /usr/local/lib/python3.7/dist-packages (from ipywidgets) (5.5.0)\n",
            "Requirement already satisfied: ipython-genutils~=0.2.0 in /usr/local/lib/python3.7/dist-packages (from ipywidgets) (0.2.0)\n",
            "Requirement already satisfied: traitlets>=4.3.1 in /usr/local/lib/python3.7/dist-packages (from ipywidgets) (5.1.1)\n",
            "Requirement already satisfied: ipykernel>=4.5.1 in /usr/local/lib/python3.7/dist-packages (from ipywidgets) (4.10.1)\n",
            "Requirement already satisfied: widgetsnbextension~=3.6.0 in /usr/local/lib/python3.7/dist-packages (from ipywidgets) (3.6.0)\n",
            "Requirement already satisfied: nbformat>=4.2.0 in /usr/local/lib/python3.7/dist-packages (from ipywidgets) (5.2.0)\n",
            "Requirement already satisfied: tornado>=4.0 in /usr/local/lib/python3.7/dist-packages (from ipykernel>=4.5.1->ipywidgets) (5.1.1)\n",
            "Requirement already satisfied: jupyter-client in /usr/local/lib/python3.7/dist-packages (from ipykernel>=4.5.1->ipywidgets) (5.3.5)\n",
            "Requirement already satisfied: pexpect in /usr/local/lib/python3.7/dist-packages (from ipython>=4.0.0->ipywidgets) (4.8.0)\n",
            "Requirement already satisfied: simplegeneric>0.8 in /usr/local/lib/python3.7/dist-packages (from ipython>=4.0.0->ipywidgets) (0.8.1)\n",
            "Requirement already satisfied: pickleshare in /usr/local/lib/python3.7/dist-packages (from ipython>=4.0.0->ipywidgets) (0.7.5)\n",
            "Requirement already satisfied: pygments in /usr/local/lib/python3.7/dist-packages (from ipython>=4.0.0->ipywidgets) (2.6.1)\n",
            "Requirement already satisfied: decorator in /usr/local/lib/python3.7/dist-packages (from ipython>=4.0.0->ipywidgets) (4.4.2)\n",
            "Requirement already satisfied: setuptools>=18.5 in /usr/local/lib/python3.7/dist-packages (from ipython>=4.0.0->ipywidgets) (57.4.0)\n",
            "Requirement already satisfied: prompt-toolkit<2.0.0,>=1.0.4 in /usr/local/lib/python3.7/dist-packages (from ipython>=4.0.0->ipywidgets) (1.0.18)\n",
            "Requirement already satisfied: jupyter-core in /usr/local/lib/python3.7/dist-packages (from nbformat>=4.2.0->ipywidgets) (4.9.2)\n",
            "Requirement already satisfied: jsonschema!=2.5.0,>=2.4 in /usr/local/lib/python3.7/dist-packages (from nbformat>=4.2.0->ipywidgets) (4.3.3)\n",
            "Requirement already satisfied: typing-extensions in /usr/local/lib/python3.7/dist-packages (from jsonschema!=2.5.0,>=2.4->nbformat>=4.2.0->ipywidgets) (3.10.0.2)\n",
            "Requirement already satisfied: importlib-metadata in /usr/local/lib/python3.7/dist-packages (from jsonschema!=2.5.0,>=2.4->nbformat>=4.2.0->ipywidgets) (4.11.3)\n",
            "Requirement already satisfied: pyrsistent!=0.17.0,!=0.17.1,!=0.17.2,>=0.14.0 in /usr/local/lib/python3.7/dist-packages (from jsonschema!=2.5.0,>=2.4->nbformat>=4.2.0->ipywidgets) (0.18.1)\n",
            "Requirement already satisfied: importlib-resources>=1.4.0 in /usr/local/lib/python3.7/dist-packages (from jsonschema!=2.5.0,>=2.4->nbformat>=4.2.0->ipywidgets) (5.4.0)\n",
            "Requirement already satisfied: attrs>=17.4.0 in /usr/local/lib/python3.7/dist-packages (from jsonschema!=2.5.0,>=2.4->nbformat>=4.2.0->ipywidgets) (21.4.0)\n",
            "Requirement already satisfied: zipp>=3.1.0 in /usr/local/lib/python3.7/dist-packages (from importlib-resources>=1.4.0->jsonschema!=2.5.0,>=2.4->nbformat>=4.2.0->ipywidgets) (3.7.0)\n",
            "Requirement already satisfied: six>=1.9.0 in /usr/local/lib/python3.7/dist-packages (from prompt-toolkit<2.0.0,>=1.0.4->ipython>=4.0.0->ipywidgets) (1.15.0)\n",
            "Requirement already satisfied: wcwidth in /usr/local/lib/python3.7/dist-packages (from prompt-toolkit<2.0.0,>=1.0.4->ipython>=4.0.0->ipywidgets) (0.2.5)\n",
            "Requirement already satisfied: notebook>=4.4.1 in /usr/local/lib/python3.7/dist-packages (from widgetsnbextension~=3.6.0->ipywidgets) (5.3.1)\n",
            "Requirement already satisfied: nbconvert in /usr/local/lib/python3.7/dist-packages (from notebook>=4.4.1->widgetsnbextension~=3.6.0->ipywidgets) (5.6.1)\n",
            "Requirement already satisfied: terminado>=0.8.1 in /usr/local/lib/python3.7/dist-packages (from notebook>=4.4.1->widgetsnbextension~=3.6.0->ipywidgets) (0.13.3)\n",
            "Requirement already satisfied: jinja2 in /usr/local/lib/python3.7/dist-packages (from notebook>=4.4.1->widgetsnbextension~=3.6.0->ipywidgets) (2.11.3)\n",
            "Requirement already satisfied: Send2Trash in /usr/local/lib/python3.7/dist-packages (from notebook>=4.4.1->widgetsnbextension~=3.6.0->ipywidgets) (1.8.0)\n",
            "Requirement already satisfied: pyzmq>=13 in /usr/local/lib/python3.7/dist-packages (from jupyter-client->ipykernel>=4.5.1->ipywidgets) (22.3.0)\n",
            "Requirement already satisfied: python-dateutil>=2.1 in /usr/local/lib/python3.7/dist-packages (from jupyter-client->ipykernel>=4.5.1->ipywidgets) (2.8.2)\n",
            "Requirement already satisfied: ptyprocess in /usr/local/lib/python3.7/dist-packages (from terminado>=0.8.1->notebook>=4.4.1->widgetsnbextension~=3.6.0->ipywidgets) (0.7.0)\n",
            "Requirement already satisfied: MarkupSafe>=0.23 in /usr/local/lib/python3.7/dist-packages (from jinja2->notebook>=4.4.1->widgetsnbextension~=3.6.0->ipywidgets) (2.0.1)\n",
            "Requirement already satisfied: testpath in /usr/local/lib/python3.7/dist-packages (from nbconvert->notebook>=4.4.1->widgetsnbextension~=3.6.0->ipywidgets) (0.6.0)\n",
            "Requirement already satisfied: pandocfilters>=1.4.1 in /usr/local/lib/python3.7/dist-packages (from nbconvert->notebook>=4.4.1->widgetsnbextension~=3.6.0->ipywidgets) (1.5.0)\n",
            "Requirement already satisfied: mistune<2,>=0.8.1 in /usr/local/lib/python3.7/dist-packages (from nbconvert->notebook>=4.4.1->widgetsnbextension~=3.6.0->ipywidgets) (0.8.4)\n",
            "Requirement already satisfied: entrypoints>=0.2.2 in /usr/local/lib/python3.7/dist-packages (from nbconvert->notebook>=4.4.1->widgetsnbextension~=3.6.0->ipywidgets) (0.4)\n",
            "Requirement already satisfied: bleach in /usr/local/lib/python3.7/dist-packages (from nbconvert->notebook>=4.4.1->widgetsnbextension~=3.6.0->ipywidgets) (4.1.0)\n",
            "Requirement already satisfied: defusedxml in /usr/local/lib/python3.7/dist-packages (from nbconvert->notebook>=4.4.1->widgetsnbextension~=3.6.0->ipywidgets) (0.7.1)\n",
            "Requirement already satisfied: webencodings in /usr/local/lib/python3.7/dist-packages (from bleach->nbconvert->notebook>=4.4.1->widgetsnbextension~=3.6.0->ipywidgets) (0.5.1)\n",
            "Requirement already satisfied: packaging in /usr/local/lib/python3.7/dist-packages (from bleach->nbconvert->notebook>=4.4.1->widgetsnbextension~=3.6.0->ipywidgets) (21.3)\n",
            "Requirement already satisfied: pyparsing!=3.0.5,>=2.0.2 in /usr/local/lib/python3.7/dist-packages (from packaging->bleach->nbconvert->notebook>=4.4.1->widgetsnbextension~=3.6.0->ipywidgets) (3.0.7)\n",
            "Requirement already satisfied: rouge in /usr/local/lib/python3.7/dist-packages (1.0.1)\n",
            "Requirement already satisfied: six in /usr/local/lib/python3.7/dist-packages (from rouge) (1.15.0)\n",
            "Requirement already satisfied: python-meteor in /usr/local/lib/python3.7/dist-packages (0.1.6)\n",
            "Requirement already satisfied: python-ddp in /usr/local/lib/python3.7/dist-packages (from python-meteor) (0.1.5)\n",
            "Requirement already satisfied: meteor-ejson in /usr/local/lib/python3.7/dist-packages (from python-ddp->python-meteor) (1.1.0)\n",
            "Requirement already satisfied: pyee in /usr/local/lib/python3.7/dist-packages (from python-ddp->python-meteor) (9.0.4)\n",
            "Requirement already satisfied: ws4py in /usr/local/lib/python3.7/dist-packages (from python-ddp->python-meteor) (0.5.1)\n",
            "Requirement already satisfied: six in /usr/local/lib/python3.7/dist-packages (from meteor-ejson->python-ddp->python-meteor) (1.15.0)\n",
            "Requirement already satisfied: typing-extensions in /usr/local/lib/python3.7/dist-packages (from pyee->python-ddp->python-meteor) (3.10.0.2)\n"
          ]
        }
      ],
      "source": [
        "!pip install torch==1.7.1\n",
        "# !pip install -q --user torch==1.4.0 -f\n",
        "!pip install transformers\n",
        "!pip install sentencepiece==0.1.94\n",
        "!pip install ipywidgets\n",
        "!pip install rouge\n",
        "!pip install python-meteor"
      ]
    },
    {
      "cell_type": "code",
      "execution_count": 89,
      "metadata": {
        "id": "As2BTsEznMr6"
      },
      "outputs": [],
      "source": [
        "import pandas as pd\n",
        "import numpy as np\n",
        "import math\n",
        "from matplotlib import pyplot as plt\n",
        "import torch\n",
        "import json \n",
        "from transformers import T5Tokenizer, T5ForConditionalGeneration, T5Config\n",
        "\n",
        "# model = T5ForConditionalGeneration.from_pretrained('t5-large')\n",
        "# tokenizer = T5Tokenizer.from_pretrained('t5-large')\n",
        "\n",
        "model = T5ForConditionalGeneration.from_pretrained('t5-small')\n",
        "tokenizer = T5Tokenizer.from_pretrained('t5-small')"
      ]
    },
    {
      "cell_type": "code",
      "execution_count": 90,
      "metadata": {
        "id": "aW2El2vVJMJr"
      },
      "outputs": [],
      "source": [
        "model = model.to('cuda' if torch.cuda.is_available() else \"cpu\")\n",
        "device = torch.device('cuda' if torch.cuda.is_available() else \"cpu\")"
      ]
    },
    {
      "cell_type": "code",
      "execution_count": 91,
      "metadata": {
        "colab": {
          "base_uri": "https://localhost:8080/"
        },
        "id": "_qCJ85elsoOM",
        "outputId": "f9b46beb-aeba-45f1-f10f-9b17c73c288a"
      },
      "outputs": [
        {
          "output_type": "stream",
          "name": "stdout",
          "text": [
            "Mounted at /content/gdrive\n"
          ]
        }
      ],
      "source": [
        "from google.colab import drive\n",
        "drive.mount('/content/gdrive', force_remount=True)"
      ]
    },
    {
      "cell_type": "code",
      "execution_count": 100,
      "metadata": {
        "id": "kcs5I2ry4dv4"
      },
      "outputs": [],
      "source": [
        "# WikiHow_sample = pd.read_csv('/content/gdrive/MyDrive/SNLP_Coursework/WikiHow_sample.csv')\n",
        "WikiHow_sample_leq512 = pd.read_csv('/content/gdrive/MyDrive/SNLP_Coursework/WikiHow_sample_leq512_reorder_withsummary.csv')"
      ]
    },
    {
      "cell_type": "code",
      "source": [
        "# WikiHow_sample_leq512 = WikiHow_sample[WikiHow_sample['text_length']<512]"
      ],
      "metadata": {
        "id": "LeKf87rrxrAi"
      },
      "execution_count": 15,
      "outputs": []
    },
    {
      "cell_type": "code",
      "execution_count": 110,
      "metadata": {
        "colab": {
          "base_uri": "https://localhost:8080/"
        },
        "id": "dj2tCWGJ55i8",
        "outputId": "beb3f2cc-4e7f-4346-a9bd-54c9da8b262c"
      },
      "outputs": [
        {
          "output_type": "execute_result",
          "data": {
            "text/plain": [
              "2202.28125"
            ]
          },
          "metadata": {},
          "execution_count": 110
        }
      ],
      "source": [
        "len(WikiHow_sample_leq512)/32"
      ]
    },
    {
      "cell_type": "code",
      "source": [
        "# WikiHow_sample_leq512_reorder = pd.concat([WikiHow_sample_leq512[WikiHow_sample_leq512['summary'] != 'empty' ], WikiHow_sample_leq512[WikiHow_sample_leq512['summary'] == 'empty' ]], ignore_index=True)"
      ],
      "metadata": {
        "id": "HAC91XCe0v8l"
      },
      "execution_count": 52,
      "outputs": []
    },
    {
      "cell_type": "code",
      "execution_count": 94,
      "metadata": {
        "id": "y4oqVol7_pL2"
      },
      "outputs": [],
      "source": [
        "def preprocess(text):\n",
        "  preprocess_text = text.strip().replace(\"\\n\",\"\")\n",
        "  t5_prepared_Text = \"summarize: \"+preprocess_text\n",
        "  # print (\"Preprocessed and prepared text: \\n\", t5_prepared_Text)\n",
        "  # print(len(t5_prepared_Text))\n",
        "  return t5_prepared_Text, len(preprocess_text.split())"
      ]
    },
    {
      "cell_type": "code",
      "execution_count": 95,
      "metadata": {
        "id": "IiabPLpCrNQ1"
      },
      "outputs": [],
      "source": [
        "def summarize(t5_prepared_Text,ml):\n",
        "  # preprocess_text = text.strip().replace(\"\\n\",\"\")\n",
        "  # t5_prepared_Text = \"summarize: \"+preprocess_text\n",
        "  # print (\"Preprocessed and prepared text: \\n\", t5_prepared_Text)\n",
        "\n",
        "  tokenized_text = tokenizer.encode(t5_prepared_Text, max_length=512, return_tensors=\"pt\").to(device)\n",
        "\n",
        "  # summmarize \n",
        "  # summary_ids = model.generate(tokenized_text,\n",
        "  #                                     num_beams=4,\n",
        "  #                                     no_repeat_ngram_size=2,\n",
        "  #                                     min_length=30,\n",
        "  #                                     max_length=ml,\n",
        "  #                                     early_stopping=True)\n",
        "  \n",
        "  summary_ids = model.generate(tokenized_text,\n",
        "              max_length= ml,\n",
        "              num_beams=2,\n",
        "              repetition_penalty=2.5, \n",
        "              length_penalty=1.0, \n",
        "              early_stopping=True)\n",
        "\n",
        "  output = tokenizer.decode(summary_ids[0], skip_special_tokens=True)\n",
        "  return output"
      ]
    },
    {
      "cell_type": "code",
      "execution_count": 8,
      "metadata": {
        "id": "cW1PY4JJ3rOj"
      },
      "outputs": [],
      "source": [
        "# WikiHow_sample['summary']='empty'\n",
        "# WikiHow_sample['train_length'] = 0"
      ]
    },
    {
      "cell_type": "code",
      "execution_count": 96,
      "metadata": {
        "id": "JZhNG6zhVG9k"
      },
      "outputs": [],
      "source": [
        "def get_epoch(which_epoch, epoch_amount, data_length):\n",
        "  epoch_size = math.floor(data_length/epoch_amount)\n",
        "  if which_epoch == epoch_amount:\n",
        "    indecies = list(range((which_epoch-1)*epoch_size))\n",
        "  else:\n",
        "    indecies = list(range((which_epoch-1)*epoch_size, which_epoch*epoch_size))\n",
        "  return indecies"
      ]
    },
    {
      "cell_type": "code",
      "source": [
        "temp = pd.read_csv('/content/gdrive/MyDrive/SNLP_Coursework/WikiHow_sample_leq512_withsummary.csv')"
      ],
      "metadata": {
        "id": "C0MHfA5PFufI"
      },
      "execution_count": 103,
      "outputs": []
    },
    {
      "cell_type": "code",
      "source": [
        "WikiHow_sample_leq512[WikiHow_sample_leq512['summary']!='empty']"
      ],
      "metadata": {
        "colab": {
          "base_uri": "https://localhost:8080/",
          "height": 1000
        },
        "id": "wxFZj79A5agD",
        "outputId": "a8ffcdaa-64d8-4253-e45a-9a60e775aec6"
      },
      "execution_count": 108,
      "outputs": [
        {
          "output_type": "execute_result",
          "data": {
            "text/plain": [
              "      Unnamed: 0  Unnamed: 0.1  Unnamed: 0.1.1  Unnamed: 0.1.1.1  \\\n",
              "0              0             0               0             33101   \n",
              "1              1             1               1            100054   \n",
              "2              2             2               2             83773   \n",
              "3              3             5               5            101588   \n",
              "4              4             7               7             84304   \n",
              "...          ...           ...             ...               ...   \n",
              "4400        4400          6267            6267            202360   \n",
              "4401        4401          6268            6268            141292   \n",
              "4402        4402          6270            6270             11589   \n",
              "4403        4403          6271            6271            187088   \n",
              "4404        4404          6272            6272            115683   \n",
              "\n",
              "                                               headline  \\\n",
              "0     \\nAvoid abrasive clothing-on-skin contact.,\\nR...   \n",
              "1     \\nGo to Data tab and select From Other Sources...   \n",
              "2     \\nTease her.,\\nMake up ridiculous stories.,\\nE...   \n",
              "3     \\nLaunch the Microsoft Word mobile app.,\\nOpen...   \n",
              "4     \\nWhen thinking of confronting someone(if you ...   \n",
              "...                                                 ...   \n",
              "4400  \\nCut a length of foil tape (copper, silver or...   \n",
              "4401  \\nSign into your Facebook account.,\\nPost a st...   \n",
              "4402  \\nResearch leadership.,\\nDefine leadership in ...   \n",
              "4403  \\nClean the mess up immediately.,\\nUse ammonia...   \n",
              "4404  \\nCut the banana up into slices.,\\nCut the ban...   \n",
              "\n",
              "                                                  title  \\\n",
              "0                   How to Care for Skin During Winter3   \n",
              "1           How to Embed a SQL Query in Microsoft Excel   \n",
              "2            How to Reply to One Word Texts from Girls2   \n",
              "3          How to Check a Word Count in Microsoft Word3   \n",
              "4         How to Verbally Express Yourself Without Fear   \n",
              "...                                                 ...   \n",
              "4400          How to Make Bangles from Plastic Bottles3   \n",
              "4401                How to Put Spell Check on Facebook4   \n",
              "4402    How to Write a Scholarship Essay on Leadership2   \n",
              "4403                           How to Clean Stone Tile2   \n",
              "4404  How to Prepare Fruits and Vegetables for Goldf...   \n",
              "\n",
              "                                                   text  text_length  \\\n",
              "0      While it's always a good idea to cover up whe...          397   \n",
              "1     ;\\n,, Select “ODBC DSN” from the available opt...           70   \n",
              "2      Since she is only sending you one word text m...          469   \n",
              "3      On your smartphone or tablet, tap on the Word...          218   \n",
              "4      know what you wish to achieve with this verba...          143   \n",
              "...                                                 ...          ...   \n",
              "4400   Allow a small overlap as well as the size of ...          221   \n",
              "4401   Create a new Internet Explorer browsing tab a...          173   \n",
              "4402   Simply put, leadership is the ability of some...          462   \n",
              "4403   Stone will soak up spills quickly because it ...          262   \n",
              "4404  \\n\\n\\nIf you have many fish, take a slice and ...           33   \n",
              "\n",
              "                                                summary  train_length  \n",
              "0     itching is a great way to cause infections by ...           392  \n",
              "1     select the database and table as appropriate i...            64  \n",
              "2     make sure you are appropriate with your teasin...           464  \n",
              "3     the app will usually open the last document yo...           210  \n",
              "4     donna brazile: your intentions must be absolut...           141  \n",
              "...                                                 ...           ...  \n",
              "4400  the join should meet in the middle of the outs...           211  \n",
              "4401  if not yet signed in, enter your account detai...           167  \n",
              "4402  you need an even deeper understanding of the t...           452  \n",
              "4403  rust occurs when metal oxidizes during contact...           256  \n",
              "4404                      if you have many fish, take a            32  \n",
              "\n",
              "[4405 rows x 10 columns]"
            ],
            "text/html": [
              "\n",
              "  <div id=\"df-4f1e5be9-e695-4372-bd9e-01f4285be88e\">\n",
              "    <div class=\"colab-df-container\">\n",
              "      <div>\n",
              "<style scoped>\n",
              "    .dataframe tbody tr th:only-of-type {\n",
              "        vertical-align: middle;\n",
              "    }\n",
              "\n",
              "    .dataframe tbody tr th {\n",
              "        vertical-align: top;\n",
              "    }\n",
              "\n",
              "    .dataframe thead th {\n",
              "        text-align: right;\n",
              "    }\n",
              "</style>\n",
              "<table border=\"1\" class=\"dataframe\">\n",
              "  <thead>\n",
              "    <tr style=\"text-align: right;\">\n",
              "      <th></th>\n",
              "      <th>Unnamed: 0</th>\n",
              "      <th>Unnamed: 0.1</th>\n",
              "      <th>Unnamed: 0.1.1</th>\n",
              "      <th>Unnamed: 0.1.1.1</th>\n",
              "      <th>headline</th>\n",
              "      <th>title</th>\n",
              "      <th>text</th>\n",
              "      <th>text_length</th>\n",
              "      <th>summary</th>\n",
              "      <th>train_length</th>\n",
              "    </tr>\n",
              "  </thead>\n",
              "  <tbody>\n",
              "    <tr>\n",
              "      <th>0</th>\n",
              "      <td>0</td>\n",
              "      <td>0</td>\n",
              "      <td>0</td>\n",
              "      <td>33101</td>\n",
              "      <td>\\nAvoid abrasive clothing-on-skin contact.,\\nR...</td>\n",
              "      <td>How to Care for Skin During Winter3</td>\n",
              "      <td>While it's always a good idea to cover up whe...</td>\n",
              "      <td>397</td>\n",
              "      <td>itching is a great way to cause infections by ...</td>\n",
              "      <td>392</td>\n",
              "    </tr>\n",
              "    <tr>\n",
              "      <th>1</th>\n",
              "      <td>1</td>\n",
              "      <td>1</td>\n",
              "      <td>1</td>\n",
              "      <td>100054</td>\n",
              "      <td>\\nGo to Data tab and select From Other Sources...</td>\n",
              "      <td>How to Embed a SQL Query in Microsoft Excel</td>\n",
              "      <td>;\\n,, Select “ODBC DSN” from the available opt...</td>\n",
              "      <td>70</td>\n",
              "      <td>select the database and table as appropriate i...</td>\n",
              "      <td>64</td>\n",
              "    </tr>\n",
              "    <tr>\n",
              "      <th>2</th>\n",
              "      <td>2</td>\n",
              "      <td>2</td>\n",
              "      <td>2</td>\n",
              "      <td>83773</td>\n",
              "      <td>\\nTease her.,\\nMake up ridiculous stories.,\\nE...</td>\n",
              "      <td>How to Reply to One Word Texts from Girls2</td>\n",
              "      <td>Since she is only sending you one word text m...</td>\n",
              "      <td>469</td>\n",
              "      <td>make sure you are appropriate with your teasin...</td>\n",
              "      <td>464</td>\n",
              "    </tr>\n",
              "    <tr>\n",
              "      <th>3</th>\n",
              "      <td>3</td>\n",
              "      <td>5</td>\n",
              "      <td>5</td>\n",
              "      <td>101588</td>\n",
              "      <td>\\nLaunch the Microsoft Word mobile app.,\\nOpen...</td>\n",
              "      <td>How to Check a Word Count in Microsoft Word3</td>\n",
              "      <td>On your smartphone or tablet, tap on the Word...</td>\n",
              "      <td>218</td>\n",
              "      <td>the app will usually open the last document yo...</td>\n",
              "      <td>210</td>\n",
              "    </tr>\n",
              "    <tr>\n",
              "      <th>4</th>\n",
              "      <td>4</td>\n",
              "      <td>7</td>\n",
              "      <td>7</td>\n",
              "      <td>84304</td>\n",
              "      <td>\\nWhen thinking of confronting someone(if you ...</td>\n",
              "      <td>How to Verbally Express Yourself Without Fear</td>\n",
              "      <td>know what you wish to achieve with this verba...</td>\n",
              "      <td>143</td>\n",
              "      <td>donna brazile: your intentions must be absolut...</td>\n",
              "      <td>141</td>\n",
              "    </tr>\n",
              "    <tr>\n",
              "      <th>...</th>\n",
              "      <td>...</td>\n",
              "      <td>...</td>\n",
              "      <td>...</td>\n",
              "      <td>...</td>\n",
              "      <td>...</td>\n",
              "      <td>...</td>\n",
              "      <td>...</td>\n",
              "      <td>...</td>\n",
              "      <td>...</td>\n",
              "      <td>...</td>\n",
              "    </tr>\n",
              "    <tr>\n",
              "      <th>4400</th>\n",
              "      <td>4400</td>\n",
              "      <td>6267</td>\n",
              "      <td>6267</td>\n",
              "      <td>202360</td>\n",
              "      <td>\\nCut a length of foil tape (copper, silver or...</td>\n",
              "      <td>How to Make Bangles from Plastic Bottles3</td>\n",
              "      <td>Allow a small overlap as well as the size of ...</td>\n",
              "      <td>221</td>\n",
              "      <td>the join should meet in the middle of the outs...</td>\n",
              "      <td>211</td>\n",
              "    </tr>\n",
              "    <tr>\n",
              "      <th>4401</th>\n",
              "      <td>4401</td>\n",
              "      <td>6268</td>\n",
              "      <td>6268</td>\n",
              "      <td>141292</td>\n",
              "      <td>\\nSign into your Facebook account.,\\nPost a st...</td>\n",
              "      <td>How to Put Spell Check on Facebook4</td>\n",
              "      <td>Create a new Internet Explorer browsing tab a...</td>\n",
              "      <td>173</td>\n",
              "      <td>if not yet signed in, enter your account detai...</td>\n",
              "      <td>167</td>\n",
              "    </tr>\n",
              "    <tr>\n",
              "      <th>4402</th>\n",
              "      <td>4402</td>\n",
              "      <td>6270</td>\n",
              "      <td>6270</td>\n",
              "      <td>11589</td>\n",
              "      <td>\\nResearch leadership.,\\nDefine leadership in ...</td>\n",
              "      <td>How to Write a Scholarship Essay on Leadership2</td>\n",
              "      <td>Simply put, leadership is the ability of some...</td>\n",
              "      <td>462</td>\n",
              "      <td>you need an even deeper understanding of the t...</td>\n",
              "      <td>452</td>\n",
              "    </tr>\n",
              "    <tr>\n",
              "      <th>4403</th>\n",
              "      <td>4403</td>\n",
              "      <td>6271</td>\n",
              "      <td>6271</td>\n",
              "      <td>187088</td>\n",
              "      <td>\\nClean the mess up immediately.,\\nUse ammonia...</td>\n",
              "      <td>How to Clean Stone Tile2</td>\n",
              "      <td>Stone will soak up spills quickly because it ...</td>\n",
              "      <td>262</td>\n",
              "      <td>rust occurs when metal oxidizes during contact...</td>\n",
              "      <td>256</td>\n",
              "    </tr>\n",
              "    <tr>\n",
              "      <th>4404</th>\n",
              "      <td>4404</td>\n",
              "      <td>6272</td>\n",
              "      <td>6272</td>\n",
              "      <td>115683</td>\n",
              "      <td>\\nCut the banana up into slices.,\\nCut the ban...</td>\n",
              "      <td>How to Prepare Fruits and Vegetables for Goldf...</td>\n",
              "      <td>\\n\\n\\nIf you have many fish, take a slice and ...</td>\n",
              "      <td>33</td>\n",
              "      <td>if you have many fish, take a</td>\n",
              "      <td>32</td>\n",
              "    </tr>\n",
              "  </tbody>\n",
              "</table>\n",
              "<p>4405 rows × 10 columns</p>\n",
              "</div>\n",
              "      <button class=\"colab-df-convert\" onclick=\"convertToInteractive('df-4f1e5be9-e695-4372-bd9e-01f4285be88e')\"\n",
              "              title=\"Convert this dataframe to an interactive table.\"\n",
              "              style=\"display:none;\">\n",
              "        \n",
              "  <svg xmlns=\"http://www.w3.org/2000/svg\" height=\"24px\"viewBox=\"0 0 24 24\"\n",
              "       width=\"24px\">\n",
              "    <path d=\"M0 0h24v24H0V0z\" fill=\"none\"/>\n",
              "    <path d=\"M18.56 5.44l.94 2.06.94-2.06 2.06-.94-2.06-.94-.94-2.06-.94 2.06-2.06.94zm-11 1L8.5 8.5l.94-2.06 2.06-.94-2.06-.94L8.5 2.5l-.94 2.06-2.06.94zm10 10l.94 2.06.94-2.06 2.06-.94-2.06-.94-.94-2.06-.94 2.06-2.06.94z\"/><path d=\"M17.41 7.96l-1.37-1.37c-.4-.4-.92-.59-1.43-.59-.52 0-1.04.2-1.43.59L10.3 9.45l-7.72 7.72c-.78.78-.78 2.05 0 2.83L4 21.41c.39.39.9.59 1.41.59.51 0 1.02-.2 1.41-.59l7.78-7.78 2.81-2.81c.8-.78.8-2.07 0-2.86zM5.41 20L4 18.59l7.72-7.72 1.47 1.35L5.41 20z\"/>\n",
              "  </svg>\n",
              "      </button>\n",
              "      \n",
              "  <style>\n",
              "    .colab-df-container {\n",
              "      display:flex;\n",
              "      flex-wrap:wrap;\n",
              "      gap: 12px;\n",
              "    }\n",
              "\n",
              "    .colab-df-convert {\n",
              "      background-color: #E8F0FE;\n",
              "      border: none;\n",
              "      border-radius: 50%;\n",
              "      cursor: pointer;\n",
              "      display: none;\n",
              "      fill: #1967D2;\n",
              "      height: 32px;\n",
              "      padding: 0 0 0 0;\n",
              "      width: 32px;\n",
              "    }\n",
              "\n",
              "    .colab-df-convert:hover {\n",
              "      background-color: #E2EBFA;\n",
              "      box-shadow: 0px 1px 2px rgba(60, 64, 67, 0.3), 0px 1px 3px 1px rgba(60, 64, 67, 0.15);\n",
              "      fill: #174EA6;\n",
              "    }\n",
              "\n",
              "    [theme=dark] .colab-df-convert {\n",
              "      background-color: #3B4455;\n",
              "      fill: #D2E3FC;\n",
              "    }\n",
              "\n",
              "    [theme=dark] .colab-df-convert:hover {\n",
              "      background-color: #434B5C;\n",
              "      box-shadow: 0px 1px 3px 1px rgba(0, 0, 0, 0.15);\n",
              "      filter: drop-shadow(0px 1px 2px rgba(0, 0, 0, 0.3));\n",
              "      fill: #FFFFFF;\n",
              "    }\n",
              "  </style>\n",
              "\n",
              "      <script>\n",
              "        const buttonEl =\n",
              "          document.querySelector('#df-4f1e5be9-e695-4372-bd9e-01f4285be88e button.colab-df-convert');\n",
              "        buttonEl.style.display =\n",
              "          google.colab.kernel.accessAllowed ? 'block' : 'none';\n",
              "\n",
              "        async function convertToInteractive(key) {\n",
              "          const element = document.querySelector('#df-4f1e5be9-e695-4372-bd9e-01f4285be88e');\n",
              "          const dataTable =\n",
              "            await google.colab.kernel.invokeFunction('convertToInteractive',\n",
              "                                                     [key], {});\n",
              "          if (!dataTable) return;\n",
              "\n",
              "          const docLinkHtml = 'Like what you see? Visit the ' +\n",
              "            '<a target=\"_blank\" href=https://colab.research.google.com/notebooks/data_table.ipynb>data table notebook</a>'\n",
              "            + ' to learn more about interactive tables.';\n",
              "          element.innerHTML = '';\n",
              "          dataTable['output_type'] = 'display_data';\n",
              "          await google.colab.output.renderOutput(dataTable, element);\n",
              "          const docLink = document.createElement('div');\n",
              "          docLink.innerHTML = docLinkHtml;\n",
              "          element.appendChild(docLink);\n",
              "        }\n",
              "      </script>\n",
              "    </div>\n",
              "  </div>\n",
              "  "
            ]
          },
          "metadata": {},
          "execution_count": 108
        }
      ]
    },
    {
      "cell_type": "code",
      "source": [
        "# epoch = get_epoch(2,16,len(WikiHow_sample_leq512))\n",
        "for i,text in zip(list(range(3268,4405)),WikiHow_sample_leq512['text'][3268:4405]):\n",
        "  t5_prepared_Text,train_length = preprocess(text)\n",
        "    # print(ml)\n",
        "  ml = round(0.33 * train_length)\n",
        "  WikiHow_sample_leq512['train_length'][i] = train_length\n",
        "  WikiHow_sample_leq512['summary'][i] = summarize(t5_prepared_Text,ml)\n",
        "\n",
        "WikiHow_sample_leq512.to_csv('WikiHow_sample_leq512_withsummary.csv')\n",
        "!cp WikiHow_sample_leq512_withsummary.csv \"/content/gdrive/My Drive/SNLP_Coursework\""
      ],
      "metadata": {
        "colab": {
          "base_uri": "https://localhost:8080/"
        },
        "id": "dnl21Ys019LM",
        "outputId": "9858cea9-75c5-4103-c7d9-eacc9d0ebf9c"
      },
      "execution_count": 101,
      "outputs": [
        {
          "output_type": "stream",
          "name": "stderr",
          "text": [
            "/usr/local/lib/python3.7/dist-packages/ipykernel_launcher.py:6: SettingWithCopyWarning: \n",
            "A value is trying to be set on a copy of a slice from a DataFrame\n",
            "\n",
            "See the caveats in the documentation: https://pandas.pydata.org/pandas-docs/stable/user_guide/indexing.html#returning-a-view-versus-a-copy\n",
            "  \n",
            "Truncation was not explicitly activated but `max_length` is provided a specific value, please use `truncation=True` to explicitly truncate examples to max length. Defaulting to 'longest_first' truncation strategy. If you encode pairs of sequences (GLUE-style) with the tokenizer you can select this strategy more precisely by providing a specific strategy to `truncation`.\n",
            "/usr/local/lib/python3.7/dist-packages/ipykernel_launcher.py:7: SettingWithCopyWarning: \n",
            "A value is trying to be set on a copy of a slice from a DataFrame\n",
            "\n",
            "See the caveats in the documentation: https://pandas.pydata.org/pandas-docs/stable/user_guide/indexing.html#returning-a-view-versus-a-copy\n",
            "  import sys\n"
          ]
        }
      ]
    },
    {
      "cell_type": "code",
      "execution_count": 111,
      "metadata": {
        "colab": {
          "base_uri": "https://localhost:8080/"
        },
        "id": "bwgpqdKD6Hej",
        "outputId": "62f5dc20-1441-4ce5-cabf-0fe06e1321ed"
      },
      "outputs": [
        {
          "output_type": "stream",
          "name": "stderr",
          "text": [
            "/usr/local/lib/python3.7/dist-packages/ipykernel_launcher.py:6: SettingWithCopyWarning: \n",
            "A value is trying to be set on a copy of a slice from a DataFrame\n",
            "\n",
            "See the caveats in the documentation: https://pandas.pydata.org/pandas-docs/stable/user_guide/indexing.html#returning-a-view-versus-a-copy\n",
            "  \n",
            "/usr/local/lib/python3.7/dist-packages/ipykernel_launcher.py:7: SettingWithCopyWarning: \n",
            "A value is trying to be set on a copy of a slice from a DataFrame\n",
            "\n",
            "See the caveats in the documentation: https://pandas.pydata.org/pandas-docs/stable/user_guide/indexing.html#returning-a-view-versus-a-copy\n",
            "  import sys\n"
          ]
        }
      ],
      "source": [
        "epoch = get_epoch(3,32,len(WikiHow_sample_leq512))\n",
        "for i,text in zip(epoch,WikiHow_sample_leq512['text'][epoch]):\n",
        "  t5_prepared_Text,train_length = preprocess(text)\n",
        "    # print(ml)\n",
        "  ml = round(0.33 * train_length)\n",
        "  WikiHow_sample_leq512['train_length'][i] = train_length\n",
        "  WikiHow_sample_leq512['summary'][i] = summarize(t5_prepared_Text,ml)\n",
        "\n",
        "WikiHow_sample_leq512.to_csv('WikiHow_sample_leq512_withsummary.csv')\n",
        "!cp WikiHow_sample_leq512_withsummary.csv \"/content/gdrive/My Drive/SNLP_Coursework\""
      ]
    },
    {
      "cell_type": "code",
      "source": [
        "plt.hist(WikiHow_sample['text_length'][epoch])"
      ],
      "metadata": {
        "colab": {
          "base_uri": "https://localhost:8080/",
          "height": 334
        },
        "id": "y6u5iLAKWnaJ",
        "outputId": "71ae448f-fa80-4857-bac0-857aa29c3979"
      },
      "execution_count": 33,
      "outputs": [
        {
          "output_type": "execute_result",
          "data": {
            "text/plain": [
              "(array([952., 329., 127.,  67.,  37.,  16.,  14.,   2.,   1.,   1.]),\n",
              " array([  31. ,  418.3,  805.6, 1192.9, 1580.2, 1967.5, 2354.8, 2742.1,\n",
              "        3129.4, 3516.7, 3904. ]),\n",
              " <a list of 10 Patch objects>)"
            ]
          },
          "metadata": {},
          "execution_count": 33
        },
        {
          "output_type": "display_data",
          "data": {
            "text/plain": [
              "<Figure size 432x288 with 1 Axes>"
            ],
            "image/png": "[encoded data removed]"
          },
          "metadata": {
            "needs_background": "light"
          }
        }
      ]
    },
    {
      "cell_type": "code",
      "execution_count": 29,
      "metadata": {
        "id": "rIU4GQXrbxVz"
      },
      "outputs": [],
      "source": [
        "WikiHow_sample.to_csv('WikiHow_withsummary.csv')\n",
        "!cp WikiHow_withsummary.csv \"/content/gdrive/My Drive/SNLP_Coursework\""
      ]
    }
  ],
  "metadata": {
    "accelerator": "GPU",
    "colab": {
      "collapsed_sections": [],
      "name": "T5.ipynb",
      "provenance": []
    },
    "kernelspec": {
      "display_name": "Python 3",
      "name": "python3"
    },
    "language_info": {
      "name": "python"
    }
  },
  "nbformat": 4,
  "nbformat_minor": 0
}